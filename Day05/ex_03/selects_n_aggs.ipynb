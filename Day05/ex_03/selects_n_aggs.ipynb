{
 "cells": [
  {
   "cell_type": "markdown",
   "metadata": {},
   "source": [
    "# Exercise 03 : Selects and<br>aggregations"
   ]
  },
  {
   "cell_type": "code",
   "execution_count": 39,
   "metadata": {},
   "outputs": [],
   "source": [
    "import pandas as pd"
   ]
  },
  {
   "cell_type": "markdown",
   "metadata": {},
   "source": [
    "## load the JSON file that you created in the previous exercise into a dataframe\n"
   ]
  },
  {
   "cell_type": "markdown",
   "metadata": {},
   "source": [
    "- and set CarNumber as the index column"
   ]
  },
  {
   "cell_type": "code",
   "execution_count": 40,
   "metadata": {},
   "outputs": [
    {
     "data": {
      "text/html": [
       "<div>\n",
       "<style scoped>\n",
       "    .dataframe tbody tr th:only-of-type {\n",
       "        vertical-align: middle;\n",
       "    }\n",
       "\n",
       "    .dataframe tbody tr th {\n",
       "        vertical-align: top;\n",
       "    }\n",
       "\n",
       "    .dataframe thead th {\n",
       "        text-align: right;\n",
       "    }\n",
       "</style>\n",
       "<table border=\"1\" class=\"dataframe\">\n",
       "  <thead>\n",
       "    <tr style=\"text-align: right;\">\n",
       "      <th></th>\n",
       "      <th>Refund</th>\n",
       "      <th>Fines</th>\n",
       "      <th>Make</th>\n",
       "      <th>Model</th>\n",
       "    </tr>\n",
       "    <tr>\n",
       "      <th>CarNumber</th>\n",
       "      <th></th>\n",
       "      <th></th>\n",
       "      <th></th>\n",
       "      <th></th>\n",
       "    </tr>\n",
       "  </thead>\n",
       "  <tbody>\n",
       "    <tr>\n",
       "      <th>Y163O8161RUS</th>\n",
       "      <td>2</td>\n",
       "      <td>3200.000000</td>\n",
       "      <td>Ford</td>\n",
       "      <td>Focus</td>\n",
       "    </tr>\n",
       "    <tr>\n",
       "      <th>E432XX77RUS</th>\n",
       "      <td>1</td>\n",
       "      <td>6500.000000</td>\n",
       "      <td>Toyota</td>\n",
       "      <td>Camry</td>\n",
       "    </tr>\n",
       "    <tr>\n",
       "      <th>7184TT36RUS</th>\n",
       "      <td>1</td>\n",
       "      <td>2100.000000</td>\n",
       "      <td>Ford</td>\n",
       "      <td>Focus</td>\n",
       "    </tr>\n",
       "    <tr>\n",
       "      <th>X582HE161RUS</th>\n",
       "      <td>2</td>\n",
       "      <td>2000.000000</td>\n",
       "      <td>Ford</td>\n",
       "      <td>Focus</td>\n",
       "    </tr>\n",
       "    <tr>\n",
       "      <th>92918M178RUS</th>\n",
       "      <td>1</td>\n",
       "      <td>5700.000000</td>\n",
       "      <td>Ford</td>\n",
       "      <td>Focus</td>\n",
       "    </tr>\n",
       "    <tr>\n",
       "      <th>...</th>\n",
       "      <td>...</td>\n",
       "      <td>...</td>\n",
       "      <td>...</td>\n",
       "      <td>...</td>\n",
       "    </tr>\n",
       "    <tr>\n",
       "      <th>Y163O8161RUS</th>\n",
       "      <td>2</td>\n",
       "      <td>1600.000000</td>\n",
       "      <td>Ford</td>\n",
       "      <td>Focus</td>\n",
       "    </tr>\n",
       "    <tr>\n",
       "      <th>M0309X197RUS</th>\n",
       "      <td>1</td>\n",
       "      <td>22300.000000</td>\n",
       "      <td>Ford</td>\n",
       "      <td>Focus</td>\n",
       "    </tr>\n",
       "    <tr>\n",
       "      <th>O673E8197RUS</th>\n",
       "      <td>2</td>\n",
       "      <td>600.000000</td>\n",
       "      <td>Ford</td>\n",
       "      <td>Focus</td>\n",
       "    </tr>\n",
       "    <tr>\n",
       "      <th>8610T8154RUS</th>\n",
       "      <td>1</td>\n",
       "      <td>2000.000000</td>\n",
       "      <td>Ford</td>\n",
       "      <td>Focus</td>\n",
       "    </tr>\n",
       "    <tr>\n",
       "      <th>H419XE197RUS</th>\n",
       "      <td>2</td>\n",
       "      <td>8594.586466</td>\n",
       "      <td>Toyota</td>\n",
       "      <td>Corolla</td>\n",
       "    </tr>\n",
       "  </tbody>\n",
       "</table>\n",
       "<p>725 rows × 4 columns</p>\n",
       "</div>"
      ],
      "text/plain": [
       "              Refund         Fines    Make    Model\n",
       "CarNumber                                          \n",
       "Y163O8161RUS       2   3200.000000    Ford    Focus\n",
       "E432XX77RUS        1   6500.000000  Toyota    Camry\n",
       "7184TT36RUS        1   2100.000000    Ford    Focus\n",
       "X582HE161RUS       2   2000.000000    Ford    Focus\n",
       "92918M178RUS       1   5700.000000    Ford    Focus\n",
       "...              ...           ...     ...      ...\n",
       "Y163O8161RUS       2   1600.000000    Ford    Focus\n",
       "M0309X197RUS       1  22300.000000    Ford    Focus\n",
       "O673E8197RUS       2    600.000000    Ford    Focus\n",
       "8610T8154RUS       1   2000.000000    Ford    Focus\n",
       "H419XE197RUS       2   8594.586466  Toyota  Corolla\n",
       "\n",
       "[725 rows x 4 columns]"
      ]
     },
     "execution_count": 40,
     "metadata": {},
     "output_type": "execute_result"
    }
   ],
   "source": [
    "df = pd.read_json('../data/auto.json').set_index('CarNumber')\n",
    "df"
   ]
  },
  {
   "cell_type": "markdown",
   "metadata": {},
   "source": [
    "##  make the following selects"
   ]
  },
  {
   "cell_type": "markdown",
   "metadata": {},
   "source": [
    "- display the rows only where the fines are more than 2,100"
   ]
  },
  {
   "cell_type": "code",
   "execution_count": 41,
   "metadata": {},
   "outputs": [
    {
     "data": {
      "text/html": [
       "<div>\n",
       "<style scoped>\n",
       "    .dataframe tbody tr th:only-of-type {\n",
       "        vertical-align: middle;\n",
       "    }\n",
       "\n",
       "    .dataframe tbody tr th {\n",
       "        vertical-align: top;\n",
       "    }\n",
       "\n",
       "    .dataframe thead th {\n",
       "        text-align: right;\n",
       "    }\n",
       "</style>\n",
       "<table border=\"1\" class=\"dataframe\">\n",
       "  <thead>\n",
       "    <tr style=\"text-align: right;\">\n",
       "      <th></th>\n",
       "      <th>Refund</th>\n",
       "      <th>Fines</th>\n",
       "      <th>Make</th>\n",
       "      <th>Model</th>\n",
       "    </tr>\n",
       "    <tr>\n",
       "      <th>CarNumber</th>\n",
       "      <th></th>\n",
       "      <th></th>\n",
       "      <th></th>\n",
       "      <th></th>\n",
       "    </tr>\n",
       "  </thead>\n",
       "  <tbody>\n",
       "    <tr>\n",
       "      <th>Y163O8161RUS</th>\n",
       "      <td>2.0</td>\n",
       "      <td>3200.000000</td>\n",
       "      <td>Ford</td>\n",
       "      <td>Focus</td>\n",
       "    </tr>\n",
       "    <tr>\n",
       "      <th>E432XX77RUS</th>\n",
       "      <td>1.0</td>\n",
       "      <td>6500.000000</td>\n",
       "      <td>Toyota</td>\n",
       "      <td>Camry</td>\n",
       "    </tr>\n",
       "    <tr>\n",
       "      <th>92918M178RUS</th>\n",
       "      <td>1.0</td>\n",
       "      <td>5700.000000</td>\n",
       "      <td>Ford</td>\n",
       "      <td>Focus</td>\n",
       "    </tr>\n",
       "    <tr>\n",
       "      <th>H234YH197RUS</th>\n",
       "      <td>2.0</td>\n",
       "      <td>6000.000000</td>\n",
       "      <td>Ford</td>\n",
       "      <td>Focus</td>\n",
       "    </tr>\n",
       "    <tr>\n",
       "      <th>E40577152RUS</th>\n",
       "      <td>1.0</td>\n",
       "      <td>8594.586466</td>\n",
       "      <td>Ford</td>\n",
       "      <td>Focus</td>\n",
       "    </tr>\n",
       "    <tr>\n",
       "      <th>...</th>\n",
       "      <td>...</td>\n",
       "      <td>...</td>\n",
       "      <td>...</td>\n",
       "      <td>...</td>\n",
       "    </tr>\n",
       "    <tr>\n",
       "      <th>O718MM163RUS</th>\n",
       "      <td>2.0</td>\n",
       "      <td>8594.586466</td>\n",
       "      <td>Ford</td>\n",
       "      <td>Focus</td>\n",
       "    </tr>\n",
       "    <tr>\n",
       "      <th>7065C8197RUS</th>\n",
       "      <td>2.0</td>\n",
       "      <td>11400.000000</td>\n",
       "      <td>Volkswagen</td>\n",
       "      <td>Passat</td>\n",
       "    </tr>\n",
       "    <tr>\n",
       "      <th>O22097197RUS</th>\n",
       "      <td>1.0</td>\n",
       "      <td>24300.000000</td>\n",
       "      <td>Ford</td>\n",
       "      <td>Focus</td>\n",
       "    </tr>\n",
       "    <tr>\n",
       "      <th>M0309X197RUS</th>\n",
       "      <td>1.0</td>\n",
       "      <td>22300.000000</td>\n",
       "      <td>Ford</td>\n",
       "      <td>Focus</td>\n",
       "    </tr>\n",
       "    <tr>\n",
       "      <th>H419XE197RUS</th>\n",
       "      <td>2.0</td>\n",
       "      <td>8594.586466</td>\n",
       "      <td>Toyota</td>\n",
       "      <td>Corolla</td>\n",
       "    </tr>\n",
       "  </tbody>\n",
       "</table>\n",
       "<p>447 rows × 4 columns</p>\n",
       "</div>"
      ],
      "text/plain": [
       "              Refund         Fines        Make    Model\n",
       "CarNumber                                              \n",
       "Y163O8161RUS     2.0   3200.000000        Ford    Focus\n",
       "E432XX77RUS      1.0   6500.000000      Toyota    Camry\n",
       "92918M178RUS     1.0   5700.000000        Ford    Focus\n",
       "H234YH197RUS     2.0   6000.000000        Ford    Focus\n",
       "E40577152RUS     1.0   8594.586466        Ford    Focus\n",
       "...              ...           ...         ...      ...\n",
       "O718MM163RUS     2.0   8594.586466        Ford    Focus\n",
       "7065C8197RUS     2.0  11400.000000  Volkswagen   Passat\n",
       "O22097197RUS     1.0  24300.000000        Ford    Focus\n",
       "M0309X197RUS     1.0  22300.000000        Ford    Focus\n",
       "H419XE197RUS     2.0   8594.586466      Toyota  Corolla\n",
       "\n",
       "[447 rows x 4 columns]"
      ]
     },
     "execution_count": 41,
     "metadata": {},
     "output_type": "execute_result"
    }
   ],
   "source": [
    "df.where(df.Fines>2100).dropna()"
   ]
  },
  {
   "cell_type": "markdown",
   "metadata": {},
   "source": [
    "- display the rows only where the fines are more than 2,100 and the refund\n",
    "equals 2"
   ]
  },
  {
   "cell_type": "code",
   "execution_count": 42,
   "metadata": {},
   "outputs": [
    {
     "data": {
      "text/html": [
       "<div>\n",
       "<style scoped>\n",
       "    .dataframe tbody tr th:only-of-type {\n",
       "        vertical-align: middle;\n",
       "    }\n",
       "\n",
       "    .dataframe tbody tr th {\n",
       "        vertical-align: top;\n",
       "    }\n",
       "\n",
       "    .dataframe thead th {\n",
       "        text-align: right;\n",
       "    }\n",
       "</style>\n",
       "<table border=\"1\" class=\"dataframe\">\n",
       "  <thead>\n",
       "    <tr style=\"text-align: right;\">\n",
       "      <th></th>\n",
       "      <th>Refund</th>\n",
       "      <th>Fines</th>\n",
       "      <th>Make</th>\n",
       "      <th>Model</th>\n",
       "    </tr>\n",
       "    <tr>\n",
       "      <th>CarNumber</th>\n",
       "      <th></th>\n",
       "      <th></th>\n",
       "      <th></th>\n",
       "      <th></th>\n",
       "    </tr>\n",
       "  </thead>\n",
       "  <tbody>\n",
       "    <tr>\n",
       "      <th>Y163O8161RUS</th>\n",
       "      <td>2.0</td>\n",
       "      <td>3200.000000</td>\n",
       "      <td>Ford</td>\n",
       "      <td>Focus</td>\n",
       "    </tr>\n",
       "    <tr>\n",
       "      <th>H234YH197RUS</th>\n",
       "      <td>2.0</td>\n",
       "      <td>6000.000000</td>\n",
       "      <td>Ford</td>\n",
       "      <td>Focus</td>\n",
       "    </tr>\n",
       "    <tr>\n",
       "      <th>707987163RUS</th>\n",
       "      <td>2.0</td>\n",
       "      <td>2200.000000</td>\n",
       "      <td>Ford</td>\n",
       "      <td>Focus</td>\n",
       "    </tr>\n",
       "    <tr>\n",
       "      <th>K330T8197RUS</th>\n",
       "      <td>2.0</td>\n",
       "      <td>8200.000000</td>\n",
       "      <td>Skoda</td>\n",
       "      <td>Octavia</td>\n",
       "    </tr>\n",
       "    <tr>\n",
       "      <th>M592CH197RUS</th>\n",
       "      <td>2.0</td>\n",
       "      <td>8594.586466</td>\n",
       "      <td>Skoda</td>\n",
       "      <td>Octavia</td>\n",
       "    </tr>\n",
       "    <tr>\n",
       "      <th>...</th>\n",
       "      <td>...</td>\n",
       "      <td>...</td>\n",
       "      <td>...</td>\n",
       "      <td>...</td>\n",
       "    </tr>\n",
       "    <tr>\n",
       "      <th>O136HO197RUS</th>\n",
       "      <td>2.0</td>\n",
       "      <td>7800.000000</td>\n",
       "      <td>Toyota</td>\n",
       "      <td>Corolla</td>\n",
       "    </tr>\n",
       "    <tr>\n",
       "      <th>O68897197RUS</th>\n",
       "      <td>2.0</td>\n",
       "      <td>12300.000000</td>\n",
       "      <td>Ford</td>\n",
       "      <td>Focus</td>\n",
       "    </tr>\n",
       "    <tr>\n",
       "      <th>O718MM163RUS</th>\n",
       "      <td>2.0</td>\n",
       "      <td>8594.586466</td>\n",
       "      <td>Ford</td>\n",
       "      <td>Focus</td>\n",
       "    </tr>\n",
       "    <tr>\n",
       "      <th>7065C8197RUS</th>\n",
       "      <td>2.0</td>\n",
       "      <td>11400.000000</td>\n",
       "      <td>Volkswagen</td>\n",
       "      <td>Passat</td>\n",
       "    </tr>\n",
       "    <tr>\n",
       "      <th>H419XE197RUS</th>\n",
       "      <td>2.0</td>\n",
       "      <td>8594.586466</td>\n",
       "      <td>Toyota</td>\n",
       "      <td>Corolla</td>\n",
       "    </tr>\n",
       "  </tbody>\n",
       "</table>\n",
       "<p>302 rows × 4 columns</p>\n",
       "</div>"
      ],
      "text/plain": [
       "              Refund         Fines        Make    Model\n",
       "CarNumber                                              \n",
       "Y163O8161RUS     2.0   3200.000000        Ford    Focus\n",
       "H234YH197RUS     2.0   6000.000000        Ford    Focus\n",
       "707987163RUS     2.0   2200.000000        Ford    Focus\n",
       "K330T8197RUS     2.0   8200.000000       Skoda  Octavia\n",
       "M592CH197RUS     2.0   8594.586466       Skoda  Octavia\n",
       "...              ...           ...         ...      ...\n",
       "O136HO197RUS     2.0   7800.000000      Toyota  Corolla\n",
       "O68897197RUS     2.0  12300.000000        Ford    Focus\n",
       "O718MM163RUS     2.0   8594.586466        Ford    Focus\n",
       "7065C8197RUS     2.0  11400.000000  Volkswagen   Passat\n",
       "H419XE197RUS     2.0   8594.586466      Toyota  Corolla\n",
       "\n",
       "[302 rows x 4 columns]"
      ]
     },
     "execution_count": 42,
     "metadata": {},
     "output_type": "execute_result"
    }
   ],
   "source": [
    "df.where(df.Fines>2100).where(df.Refund==2).dropna()"
   ]
  },
  {
   "cell_type": "markdown",
   "metadata": {},
   "source": [
    "- display the rows only where the models are from the list: [’Focus’, ’Corolla’]"
   ]
  },
  {
   "cell_type": "code",
   "execution_count": 43,
   "metadata": {},
   "outputs": [
    {
     "data": {
      "text/html": [
       "<div>\n",
       "<style scoped>\n",
       "    .dataframe tbody tr th:only-of-type {\n",
       "        vertical-align: middle;\n",
       "    }\n",
       "\n",
       "    .dataframe tbody tr th {\n",
       "        vertical-align: top;\n",
       "    }\n",
       "\n",
       "    .dataframe thead th {\n",
       "        text-align: right;\n",
       "    }\n",
       "</style>\n",
       "<table border=\"1\" class=\"dataframe\">\n",
       "  <thead>\n",
       "    <tr style=\"text-align: right;\">\n",
       "      <th></th>\n",
       "      <th>Refund</th>\n",
       "      <th>Fines</th>\n",
       "      <th>Make</th>\n",
       "      <th>Model</th>\n",
       "    </tr>\n",
       "    <tr>\n",
       "      <th>CarNumber</th>\n",
       "      <th></th>\n",
       "      <th></th>\n",
       "      <th></th>\n",
       "      <th></th>\n",
       "    </tr>\n",
       "  </thead>\n",
       "  <tbody>\n",
       "    <tr>\n",
       "      <th>Y163O8161RUS</th>\n",
       "      <td>2</td>\n",
       "      <td>3200.000000</td>\n",
       "      <td>Ford</td>\n",
       "      <td>Focus</td>\n",
       "    </tr>\n",
       "    <tr>\n",
       "      <th>7184TT36RUS</th>\n",
       "      <td>1</td>\n",
       "      <td>2100.000000</td>\n",
       "      <td>Ford</td>\n",
       "      <td>Focus</td>\n",
       "    </tr>\n",
       "    <tr>\n",
       "      <th>X582HE161RUS</th>\n",
       "      <td>2</td>\n",
       "      <td>2000.000000</td>\n",
       "      <td>Ford</td>\n",
       "      <td>Focus</td>\n",
       "    </tr>\n",
       "    <tr>\n",
       "      <th>92918M178RUS</th>\n",
       "      <td>1</td>\n",
       "      <td>5700.000000</td>\n",
       "      <td>Ford</td>\n",
       "      <td>Focus</td>\n",
       "    </tr>\n",
       "    <tr>\n",
       "      <th>H234YH197RUS</th>\n",
       "      <td>2</td>\n",
       "      <td>6000.000000</td>\n",
       "      <td>Ford</td>\n",
       "      <td>Focus</td>\n",
       "    </tr>\n",
       "    <tr>\n",
       "      <th>...</th>\n",
       "      <td>...</td>\n",
       "      <td>...</td>\n",
       "      <td>...</td>\n",
       "      <td>...</td>\n",
       "    </tr>\n",
       "    <tr>\n",
       "      <th>Y163O8161RUS</th>\n",
       "      <td>2</td>\n",
       "      <td>1600.000000</td>\n",
       "      <td>Ford</td>\n",
       "      <td>Focus</td>\n",
       "    </tr>\n",
       "    <tr>\n",
       "      <th>M0309X197RUS</th>\n",
       "      <td>1</td>\n",
       "      <td>22300.000000</td>\n",
       "      <td>Ford</td>\n",
       "      <td>Focus</td>\n",
       "    </tr>\n",
       "    <tr>\n",
       "      <th>O673E8197RUS</th>\n",
       "      <td>2</td>\n",
       "      <td>600.000000</td>\n",
       "      <td>Ford</td>\n",
       "      <td>Focus</td>\n",
       "    </tr>\n",
       "    <tr>\n",
       "      <th>8610T8154RUS</th>\n",
       "      <td>1</td>\n",
       "      <td>2000.000000</td>\n",
       "      <td>Ford</td>\n",
       "      <td>Focus</td>\n",
       "    </tr>\n",
       "    <tr>\n",
       "      <th>H419XE197RUS</th>\n",
       "      <td>2</td>\n",
       "      <td>8594.586466</td>\n",
       "      <td>Toyota</td>\n",
       "      <td>Corolla</td>\n",
       "    </tr>\n",
       "  </tbody>\n",
       "</table>\n",
       "<p>593 rows × 4 columns</p>\n",
       "</div>"
      ],
      "text/plain": [
       "              Refund         Fines    Make    Model\n",
       "CarNumber                                          \n",
       "Y163O8161RUS       2   3200.000000    Ford    Focus\n",
       "7184TT36RUS        1   2100.000000    Ford    Focus\n",
       "X582HE161RUS       2   2000.000000    Ford    Focus\n",
       "92918M178RUS       1   5700.000000    Ford    Focus\n",
       "H234YH197RUS       2   6000.000000    Ford    Focus\n",
       "...              ...           ...     ...      ...\n",
       "Y163O8161RUS       2   1600.000000    Ford    Focus\n",
       "M0309X197RUS       1  22300.000000    Ford    Focus\n",
       "O673E8197RUS       2    600.000000    Ford    Focus\n",
       "8610T8154RUS       1   2000.000000    Ford    Focus\n",
       "H419XE197RUS       2   8594.586466  Toyota  Corolla\n",
       "\n",
       "[593 rows x 4 columns]"
      ]
     },
     "execution_count": 43,
     "metadata": {},
     "output_type": "execute_result"
    }
   ],
   "source": [
    "df.query(\"Model in  ['Focus', 'Corolla']\")"
   ]
  },
  {
   "cell_type": "markdown",
   "metadata": {},
   "source": [
    "- display the rows only where the car number is from the list: [’Y7689C197RUS’,<br>’92928M178RUS’, ’7788KT197RUS’, ’H115YO163RUS’, ’X758HY197RUS’]"
   ]
  },
  {
   "cell_type": "code",
   "execution_count": 44,
   "metadata": {},
   "outputs": [
    {
     "data": {
      "text/html": [
       "<div>\n",
       "<style scoped>\n",
       "    .dataframe tbody tr th:only-of-type {\n",
       "        vertical-align: middle;\n",
       "    }\n",
       "\n",
       "    .dataframe tbody tr th {\n",
       "        vertical-align: top;\n",
       "    }\n",
       "\n",
       "    .dataframe thead th {\n",
       "        text-align: right;\n",
       "    }\n",
       "</style>\n",
       "<table border=\"1\" class=\"dataframe\">\n",
       "  <thead>\n",
       "    <tr style=\"text-align: right;\">\n",
       "      <th></th>\n",
       "      <th>Refund</th>\n",
       "      <th>Fines</th>\n",
       "      <th>Make</th>\n",
       "      <th>Model</th>\n",
       "    </tr>\n",
       "    <tr>\n",
       "      <th>CarNumber</th>\n",
       "      <th></th>\n",
       "      <th></th>\n",
       "      <th></th>\n",
       "      <th></th>\n",
       "    </tr>\n",
       "  </thead>\n",
       "  <tbody>\n",
       "    <tr>\n",
       "      <th>92928M178RUS</th>\n",
       "      <td>1</td>\n",
       "      <td>8594.586466</td>\n",
       "      <td>Ford</td>\n",
       "      <td>Focus</td>\n",
       "    </tr>\n",
       "    <tr>\n",
       "      <th>H115YO163RUS</th>\n",
       "      <td>1</td>\n",
       "      <td>2200.000000</td>\n",
       "      <td>Ford</td>\n",
       "      <td>Focus</td>\n",
       "    </tr>\n",
       "    <tr>\n",
       "      <th>7788KT197RUS</th>\n",
       "      <td>2</td>\n",
       "      <td>12000.000000</td>\n",
       "      <td>Ford</td>\n",
       "      <td>Focus</td>\n",
       "    </tr>\n",
       "    <tr>\n",
       "      <th>X758HY197RUS</th>\n",
       "      <td>2</td>\n",
       "      <td>24200.000000</td>\n",
       "      <td>Ford</td>\n",
       "      <td>Focus</td>\n",
       "    </tr>\n",
       "    <tr>\n",
       "      <th>X758HY197RUS</th>\n",
       "      <td>2</td>\n",
       "      <td>72600.000000</td>\n",
       "      <td>Ford</td>\n",
       "      <td>Focus</td>\n",
       "    </tr>\n",
       "    <tr>\n",
       "      <th>Y7689C197RUS</th>\n",
       "      <td>1</td>\n",
       "      <td>27000.000000</td>\n",
       "      <td>Ford</td>\n",
       "      <td>Focus</td>\n",
       "    </tr>\n",
       "    <tr>\n",
       "      <th>92928M178RUS</th>\n",
       "      <td>1</td>\n",
       "      <td>600.000000</td>\n",
       "      <td>Ford</td>\n",
       "      <td>Focus</td>\n",
       "    </tr>\n",
       "    <tr>\n",
       "      <th>H115YO163RUS</th>\n",
       "      <td>1</td>\n",
       "      <td>8594.586466</td>\n",
       "      <td>Ford</td>\n",
       "      <td>Focus</td>\n",
       "    </tr>\n",
       "    <tr>\n",
       "      <th>H115YO163RUS</th>\n",
       "      <td>2</td>\n",
       "      <td>1100.000000</td>\n",
       "      <td>Ford</td>\n",
       "      <td>Focus</td>\n",
       "    </tr>\n",
       "    <tr>\n",
       "      <th>7788KT197RUS</th>\n",
       "      <td>2</td>\n",
       "      <td>8594.586466</td>\n",
       "      <td>Ford</td>\n",
       "      <td>Focus</td>\n",
       "    </tr>\n",
       "    <tr>\n",
       "      <th>7788KT197RUS</th>\n",
       "      <td>1</td>\n",
       "      <td>20000.000000</td>\n",
       "      <td>Ford</td>\n",
       "      <td>Focus</td>\n",
       "    </tr>\n",
       "    <tr>\n",
       "      <th>X758HY197RUS</th>\n",
       "      <td>2</td>\n",
       "      <td>145200.000000</td>\n",
       "      <td>Ford</td>\n",
       "      <td>Focus</td>\n",
       "    </tr>\n",
       "    <tr>\n",
       "      <th>92928M178RUS</th>\n",
       "      <td>1</td>\n",
       "      <td>1200.000000</td>\n",
       "      <td>Ford</td>\n",
       "      <td>Focus</td>\n",
       "    </tr>\n",
       "    <tr>\n",
       "      <th>Y7689C197RUS</th>\n",
       "      <td>2</td>\n",
       "      <td>9000.000000</td>\n",
       "      <td>Ford</td>\n",
       "      <td>Focus</td>\n",
       "    </tr>\n",
       "    <tr>\n",
       "      <th>Y7689C197RUS</th>\n",
       "      <td>2</td>\n",
       "      <td>45000.000000</td>\n",
       "      <td>Ford</td>\n",
       "      <td>Focus</td>\n",
       "    </tr>\n",
       "    <tr>\n",
       "      <th>7788KT197RUS</th>\n",
       "      <td>2</td>\n",
       "      <td>4000.000000</td>\n",
       "      <td>Ford</td>\n",
       "      <td>Focus</td>\n",
       "    </tr>\n",
       "    <tr>\n",
       "      <th>Y7689C197RUS</th>\n",
       "      <td>1</td>\n",
       "      <td>36000.000000</td>\n",
       "      <td>Ford</td>\n",
       "      <td>Focus</td>\n",
       "    </tr>\n",
       "    <tr>\n",
       "      <th>92928M178RUS</th>\n",
       "      <td>2</td>\n",
       "      <td>3000.000000</td>\n",
       "      <td>Ford</td>\n",
       "      <td>Focus</td>\n",
       "    </tr>\n",
       "  </tbody>\n",
       "</table>\n",
       "</div>"
      ],
      "text/plain": [
       "              Refund          Fines  Make  Model\n",
       "CarNumber                                       \n",
       "92928M178RUS       1    8594.586466  Ford  Focus\n",
       "H115YO163RUS       1    2200.000000  Ford  Focus\n",
       "7788KT197RUS       2   12000.000000  Ford  Focus\n",
       "X758HY197RUS       2   24200.000000  Ford  Focus\n",
       "X758HY197RUS       2   72600.000000  Ford  Focus\n",
       "Y7689C197RUS       1   27000.000000  Ford  Focus\n",
       "92928M178RUS       1     600.000000  Ford  Focus\n",
       "H115YO163RUS       1    8594.586466  Ford  Focus\n",
       "H115YO163RUS       2    1100.000000  Ford  Focus\n",
       "7788KT197RUS       2    8594.586466  Ford  Focus\n",
       "7788KT197RUS       1   20000.000000  Ford  Focus\n",
       "X758HY197RUS       2  145200.000000  Ford  Focus\n",
       "92928M178RUS       1    1200.000000  Ford  Focus\n",
       "Y7689C197RUS       2    9000.000000  Ford  Focus\n",
       "Y7689C197RUS       2   45000.000000  Ford  Focus\n",
       "7788KT197RUS       2    4000.000000  Ford  Focus\n",
       "Y7689C197RUS       1   36000.000000  Ford  Focus\n",
       "92928M178RUS       2    3000.000000  Ford  Focus"
      ]
     },
     "execution_count": 44,
     "metadata": {},
     "output_type": "execute_result"
    }
   ],
   "source": [
    "df.query(\"CarNumber in  ['Y7689C197RUS','92928M178RUS', '7788KT197RUS', 'H115YO163RUS', 'X758HY197RUS']\")"
   ]
  },
  {
   "cell_type": "markdown",
   "metadata": {},
   "source": [
    "## make the aggregations with the make and the model"
   ]
  },
  {
   "cell_type": "markdown",
   "metadata": {},
   "source": [
    "- display the median fines grouped by the make"
   ]
  },
  {
   "cell_type": "code",
   "execution_count": 45,
   "metadata": {},
   "outputs": [
    {
     "data": {
      "text/plain": [
       "Make\n",
       "Audi          4200.0\n",
       "BMW           6500.0\n",
       "Ford          3500.0\n",
       "Skoda         3250.0\n",
       "Toyota        7700.0\n",
       "Volkswagen    4300.0\n",
       "Volvo         8500.0\n",
       "Name: Fines, dtype: float64"
      ]
     },
     "execution_count": 45,
     "metadata": {},
     "output_type": "execute_result"
    }
   ],
   "source": [
    "df.groupby(['Make']).median()['Fines']"
   ]
  },
  {
   "cell_type": "markdown",
   "metadata": {},
   "source": [
    "- display the median fines grouped by the make and the model"
   ]
  },
  {
   "cell_type": "code",
   "execution_count": 46,
   "metadata": {},
   "outputs": [
    {
     "data": {
      "text/plain": [
       "Make        Model  \n",
       "Ford        Focus      3500.0\n",
       "            Mondeo     7650.0\n",
       "Skoda       Octavia    3250.0\n",
       "Toyota      Camry      7700.0\n",
       "            Corolla    7700.0\n",
       "Volkswagen  Golf       4800.0\n",
       "            Jetta      2800.0\n",
       "            Passat     3500.0\n",
       "            Touareg    5800.0\n",
       "Name: Fines, dtype: float64"
      ]
     },
     "execution_count": 46,
     "metadata": {},
     "output_type": "execute_result"
    }
   ],
   "source": [
    "df.groupby(['Make', 'Model']).median()['Fines']"
   ]
  },
  {
   "cell_type": "markdown",
   "metadata": {},
   "source": [
    "- display the number of fines grouped by the make and the model in order to<br>\n",
    "understand if we can trust the median values"
   ]
  },
  {
   "cell_type": "code",
   "execution_count": 47,
   "metadata": {},
   "outputs": [
    {
     "data": {
      "text/plain": [
       "Make        Model  \n",
       "Ford        Focus      575\n",
       "            Mondeo       6\n",
       "Skoda       Octavia     48\n",
       "Toyota      Camry       16\n",
       "            Corolla     18\n",
       "Volkswagen  Golf        20\n",
       "            Jetta        6\n",
       "            Passat      22\n",
       "            Touareg      5\n",
       "Name: Fines, dtype: int64"
      ]
     },
     "execution_count": 47,
     "metadata": {},
     "output_type": "execute_result"
    }
   ],
   "source": [
    "df.groupby(['Make', 'Model']).count()['Fines']"
   ]
  },
  {
   "cell_type": "markdown",
   "metadata": {},
   "source": [
    "- display the minimum and the maximum fines grouped by the make and the<br>model in order to better understand the variance"
   ]
  },
  {
   "cell_type": "code",
   "execution_count": 48,
   "metadata": {},
   "outputs": [
    {
     "data": {
      "text/plain": [
       "Make        Model  \n",
       "Ford        Focus       100.0\n",
       "            Mondeo     1100.0\n",
       "Skoda       Octavia     300.0\n",
       "Toyota      Camry       500.0\n",
       "            Corolla     900.0\n",
       "Volkswagen  Golf        200.0\n",
       "            Jetta       500.0\n",
       "            Passat      100.0\n",
       "            Touareg     500.0\n",
       "Name: Fines, dtype: float64"
      ]
     },
     "execution_count": 48,
     "metadata": {},
     "output_type": "execute_result"
    }
   ],
   "source": [
    "df.groupby(['Make', 'Model']).min()['Fines']"
   ]
  },
  {
   "cell_type": "code",
   "execution_count": 49,
   "metadata": {},
   "outputs": [
    {
     "data": {
      "text/plain": [
       "Make        Model  \n",
       "Ford        Focus      180000.000000\n",
       "            Mondeo      46200.000000\n",
       "Skoda       Octavia    145000.000000\n",
       "Toyota      Camry       22400.000000\n",
       "            Corolla     34300.000000\n",
       "Volkswagen  Golf       168000.000000\n",
       "            Jetta       46000.000000\n",
       "            Passat      29700.000000\n",
       "            Touareg      8594.586466\n",
       "Name: Fines, dtype: float64"
      ]
     },
     "execution_count": 49,
     "metadata": {},
     "output_type": "execute_result"
    }
   ],
   "source": [
    "df.groupby(['Make', 'Model']).max()['Fines']"
   ]
  },
  {
   "cell_type": "markdown",
   "metadata": {},
   "source": [
    "- display the standard deviation of the fines grouped by the make and the model<br>in order to better understand the variance"
   ]
  },
  {
   "cell_type": "code",
   "execution_count": 50,
   "metadata": {},
   "outputs": [
    {
     "data": {
      "text/plain": [
       "Make        Model  \n",
       "Ford        Focus      15041.269437\n",
       "            Mondeo     18987.329108\n",
       "Skoda       Octavia    24339.742174\n",
       "Toyota      Camry       6410.250654\n",
       "            Corolla     9629.325617\n",
       "Volkswagen  Golf       36950.839950\n",
       "            Jetta      17743.026799\n",
       "            Passat      6969.739135\n",
       "            Touareg     3461.778173\n",
       "Name: Fines, dtype: float64"
      ]
     },
     "execution_count": 50,
     "metadata": {},
     "output_type": "execute_result"
    }
   ],
   "source": [
    "df.groupby(['Make', 'Model']).std()['Fines']"
   ]
  },
  {
   "cell_type": "markdown",
   "metadata": {},
   "source": [
    "## make the aggregations with the car number"
   ]
  },
  {
   "cell_type": "markdown",
   "metadata": {},
   "source": [
    "- display the car numbers grouped by the number of the fines in descending<br>order, we want to find those who most often violated the law"
   ]
  },
  {
   "cell_type": "code",
   "execution_count": 51,
   "metadata": {},
   "outputs": [
    {
     "data": {
      "text/plain": [
       "CarNumber\n",
       "Y7689C197RUS    4\n",
       "92928M178RUS    4\n",
       "7788KT197RUS    4\n",
       "H115YO163RUS    3\n",
       "X758HY197RUS    3\n",
       "               ..\n",
       "E42577152RUS    1\n",
       "E42377152RUS    1\n",
       "E41977152RUS    1\n",
       "E41577152RUS    1\n",
       "H917TC36RUS     1\n",
       "Name: Fines, Length: 531, dtype: int64"
      ]
     },
     "execution_count": 51,
     "metadata": {},
     "output_type": "execute_result"
    }
   ],
   "source": [
    "df.groupby( 'CarNumber').count().sort_values(by=['Fines'],ascending=False)['Fines']"
   ]
  },
  {
   "cell_type": "markdown",
   "metadata": {},
   "source": [
    "- select from the initial dataframe all the rows corresponding to the top-1 car<br>number, we want to zoom in a little bit"
   ]
  },
  {
   "cell_type": "code",
   "execution_count": 52,
   "metadata": {},
   "outputs": [
    {
     "data": {
      "text/html": [
       "<div>\n",
       "<style scoped>\n",
       "    .dataframe tbody tr th:only-of-type {\n",
       "        vertical-align: middle;\n",
       "    }\n",
       "\n",
       "    .dataframe tbody tr th {\n",
       "        vertical-align: top;\n",
       "    }\n",
       "\n",
       "    .dataframe thead th {\n",
       "        text-align: right;\n",
       "    }\n",
       "</style>\n",
       "<table border=\"1\" class=\"dataframe\">\n",
       "  <thead>\n",
       "    <tr style=\"text-align: right;\">\n",
       "      <th></th>\n",
       "      <th>Refund</th>\n",
       "      <th>Fines</th>\n",
       "      <th>Make</th>\n",
       "      <th>Model</th>\n",
       "    </tr>\n",
       "    <tr>\n",
       "      <th>CarNumber</th>\n",
       "      <th></th>\n",
       "      <th></th>\n",
       "      <th></th>\n",
       "      <th></th>\n",
       "    </tr>\n",
       "  </thead>\n",
       "  <tbody>\n",
       "    <tr>\n",
       "      <th>Y7689C197RUS</th>\n",
       "      <td>1</td>\n",
       "      <td>27000.0</td>\n",
       "      <td>Ford</td>\n",
       "      <td>Focus</td>\n",
       "    </tr>\n",
       "    <tr>\n",
       "      <th>Y7689C197RUS</th>\n",
       "      <td>2</td>\n",
       "      <td>9000.0</td>\n",
       "      <td>Ford</td>\n",
       "      <td>Focus</td>\n",
       "    </tr>\n",
       "    <tr>\n",
       "      <th>Y7689C197RUS</th>\n",
       "      <td>2</td>\n",
       "      <td>45000.0</td>\n",
       "      <td>Ford</td>\n",
       "      <td>Focus</td>\n",
       "    </tr>\n",
       "    <tr>\n",
       "      <th>Y7689C197RUS</th>\n",
       "      <td>1</td>\n",
       "      <td>36000.0</td>\n",
       "      <td>Ford</td>\n",
       "      <td>Focus</td>\n",
       "    </tr>\n",
       "  </tbody>\n",
       "</table>\n",
       "</div>"
      ],
      "text/plain": [
       "              Refund    Fines  Make  Model\n",
       "CarNumber                                 \n",
       "Y7689C197RUS       1  27000.0  Ford  Focus\n",
       "Y7689C197RUS       2   9000.0  Ford  Focus\n",
       "Y7689C197RUS       2  45000.0  Ford  Focus\n",
       "Y7689C197RUS       1  36000.0  Ford  Focus"
      ]
     },
     "execution_count": 52,
     "metadata": {},
     "output_type": "execute_result"
    }
   ],
   "source": [
    "top_1_number = df.groupby( 'CarNumber').count().sort_values(by=['Fines'],ascending=False)['Fines'].index[0]\n",
    "df.query(f\"CarNumber == '{top_1_number}'\")"
   ]
  },
  {
   "cell_type": "markdown",
   "metadata": {},
   "source": [
    "- display the car numbers grouped by the sum of the fines in descending order,<br>we want to find those who paid the most"
   ]
  },
  {
   "cell_type": "code",
   "execution_count": 53,
   "metadata": {},
   "outputs": [
    {
     "data": {
      "text/plain": [
       "CarNumber\n",
       "X758HY197RUS    242000.0\n",
       "9020YC197RUS    217500.0\n",
       "M0279X197RUS    216000.0\n",
       "Y352O8197RUS    207200.0\n",
       "Y778EE197RUS    192000.0\n",
       "                  ...   \n",
       "83218C154RUS       100.0\n",
       "Y195O8161RUS       100.0\n",
       "K376HE161RUS       100.0\n",
       "705787163RUS       100.0\n",
       "K326T8197RUS       100.0\n",
       "Name: Fines, Length: 531, dtype: float64"
      ]
     },
     "execution_count": 53,
     "metadata": {},
     "output_type": "execute_result"
    }
   ],
   "source": [
    "df.groupby( 'CarNumber').sum().sort_values(by=['Fines'],ascending=False)['Fines']"
   ]
  },
  {
   "cell_type": "markdown",
   "metadata": {},
   "source": [
    "- select from the initial dataframe all the rows corresponding to the top-1 car<br>number, we want to zoom in a little bit"
   ]
  },
  {
   "cell_type": "code",
   "execution_count": 54,
   "metadata": {},
   "outputs": [
    {
     "data": {
      "text/html": [
       "<div>\n",
       "<style scoped>\n",
       "    .dataframe tbody tr th:only-of-type {\n",
       "        vertical-align: middle;\n",
       "    }\n",
       "\n",
       "    .dataframe tbody tr th {\n",
       "        vertical-align: top;\n",
       "    }\n",
       "\n",
       "    .dataframe thead th {\n",
       "        text-align: right;\n",
       "    }\n",
       "</style>\n",
       "<table border=\"1\" class=\"dataframe\">\n",
       "  <thead>\n",
       "    <tr style=\"text-align: right;\">\n",
       "      <th></th>\n",
       "      <th>Refund</th>\n",
       "      <th>Fines</th>\n",
       "      <th>Make</th>\n",
       "      <th>Model</th>\n",
       "    </tr>\n",
       "    <tr>\n",
       "      <th>CarNumber</th>\n",
       "      <th></th>\n",
       "      <th></th>\n",
       "      <th></th>\n",
       "      <th></th>\n",
       "    </tr>\n",
       "  </thead>\n",
       "  <tbody>\n",
       "    <tr>\n",
       "      <th>X758HY197RUS</th>\n",
       "      <td>2</td>\n",
       "      <td>24200.0</td>\n",
       "      <td>Ford</td>\n",
       "      <td>Focus</td>\n",
       "    </tr>\n",
       "    <tr>\n",
       "      <th>X758HY197RUS</th>\n",
       "      <td>2</td>\n",
       "      <td>72600.0</td>\n",
       "      <td>Ford</td>\n",
       "      <td>Focus</td>\n",
       "    </tr>\n",
       "    <tr>\n",
       "      <th>X758HY197RUS</th>\n",
       "      <td>2</td>\n",
       "      <td>145200.0</td>\n",
       "      <td>Ford</td>\n",
       "      <td>Focus</td>\n",
       "    </tr>\n",
       "  </tbody>\n",
       "</table>\n",
       "</div>"
      ],
      "text/plain": [
       "              Refund     Fines  Make  Model\n",
       "CarNumber                                  \n",
       "X758HY197RUS       2   24200.0  Ford  Focus\n",
       "X758HY197RUS       2   72600.0  Ford  Focus\n",
       "X758HY197RUS       2  145200.0  Ford  Focus"
      ]
     },
     "execution_count": 54,
     "metadata": {},
     "output_type": "execute_result"
    }
   ],
   "source": [
    "top_1_number = df.groupby( 'CarNumber').sum().sort_values(by=['Fines'],ascending=False)['Fines'].index[0]\n",
    "df.query(f\"CarNumber == '{top_1_number}'\")"
   ]
  },
  {
   "cell_type": "markdown",
   "metadata": {},
   "source": [
    "- display a table that answers the question: are there any car numbers that were<br>connected to different models?"
   ]
  },
  {
   "cell_type": "code",
   "execution_count": 55,
   "metadata": {},
   "outputs": [
    {
     "data": {
      "text/html": [
       "<div>\n",
       "<style scoped>\n",
       "    .dataframe tbody tr th:only-of-type {\n",
       "        vertical-align: middle;\n",
       "    }\n",
       "\n",
       "    .dataframe tbody tr th {\n",
       "        vertical-align: top;\n",
       "    }\n",
       "\n",
       "    .dataframe thead th {\n",
       "        text-align: right;\n",
       "    }\n",
       "</style>\n",
       "<table border=\"1\" class=\"dataframe\">\n",
       "  <thead>\n",
       "    <tr style=\"text-align: right;\">\n",
       "      <th></th>\n",
       "      <th>Refund</th>\n",
       "      <th>Fines</th>\n",
       "      <th>Make</th>\n",
       "      <th>Model</th>\n",
       "    </tr>\n",
       "    <tr>\n",
       "      <th>CarNumber</th>\n",
       "      <th></th>\n",
       "      <th></th>\n",
       "      <th></th>\n",
       "      <th></th>\n",
       "    </tr>\n",
       "  </thead>\n",
       "  <tbody>\n",
       "    <tr>\n",
       "      <th>E316EH197RUS</th>\n",
       "      <td>1</td>\n",
       "      <td>1300.0</td>\n",
       "      <td>Volkswagen</td>\n",
       "      <td>None</td>\n",
       "    </tr>\n",
       "    <tr>\n",
       "      <th>E316EH197RUS</th>\n",
       "      <td>1</td>\n",
       "      <td>1300.0</td>\n",
       "      <td>Volkswagen</td>\n",
       "      <td>Touareg</td>\n",
       "    </tr>\n",
       "  </tbody>\n",
       "</table>\n",
       "</div>"
      ],
      "text/plain": [
       "              Refund   Fines        Make    Model\n",
       "CarNumber                                        \n",
       "E316EH197RUS       1  1300.0  Volkswagen     None\n",
       "E316EH197RUS       1  1300.0  Volkswagen  Touareg"
      ]
     },
     "execution_count": 55,
     "metadata": {},
     "output_type": "execute_result"
    }
   ],
   "source": [
    "df.loc[df.reset_index().drop_duplicates([\"CarNumber\", \"Model\"]).groupby(\"CarNumber\")[\"Make\"].count().sort_values(ascending=False).index[0]]"
   ]
  },
  {
   "cell_type": "code",
   "execution_count": 56,
   "metadata": {},
   "outputs": [
    {
     "data": {
      "text/plain": [
       "Make        Model  \n",
       "Ford        Focus      575\n",
       "            Mondeo       6\n",
       "Skoda       Octavia     48\n",
       "Toyota      Camry       16\n",
       "            Corolla     18\n",
       "Volkswagen  Golf        20\n",
       "            Jetta        6\n",
       "            Passat      22\n",
       "            Touareg      5\n",
       "Name: Fines, dtype: int64"
      ]
     },
     "execution_count": 56,
     "metadata": {},
     "output_type": "execute_result"
    }
   ],
   "source": [
    "df.groupby(['Make', 'Model']).agg('Fines').count()"
   ]
  },
  {
   "cell_type": "markdown",
   "metadata": {},
   "source": [
    "# TESTS"
   ]
  },
  {
   "cell_type": "code",
   "execution_count": 58,
   "metadata": {},
   "outputs": [
    {
     "data": {
      "text/html": [
       "<div>\n",
       "<style scoped>\n",
       "    .dataframe tbody tr th:only-of-type {\n",
       "        vertical-align: middle;\n",
       "    }\n",
       "\n",
       "    .dataframe tbody tr th {\n",
       "        vertical-align: top;\n",
       "    }\n",
       "\n",
       "    .dataframe thead th {\n",
       "        text-align: right;\n",
       "    }\n",
       "</style>\n",
       "<table border=\"1\" class=\"dataframe\">\n",
       "  <thead>\n",
       "    <tr style=\"text-align: right;\">\n",
       "      <th></th>\n",
       "      <th>Refund</th>\n",
       "      <th>Fines</th>\n",
       "      <th>Make</th>\n",
       "      <th>Model</th>\n",
       "    </tr>\n",
       "    <tr>\n",
       "      <th>CarNumber</th>\n",
       "      <th></th>\n",
       "      <th></th>\n",
       "      <th></th>\n",
       "      <th></th>\n",
       "    </tr>\n",
       "  </thead>\n",
       "  <tbody>\n",
       "    <tr>\n",
       "      <th>Y163O8161RUS</th>\n",
       "      <td>2</td>\n",
       "      <td>3200.000000</td>\n",
       "      <td>Ford</td>\n",
       "      <td>Focus</td>\n",
       "    </tr>\n",
       "    <tr>\n",
       "      <th>7184TT36RUS</th>\n",
       "      <td>1</td>\n",
       "      <td>2100.000000</td>\n",
       "      <td>Ford</td>\n",
       "      <td>Focus</td>\n",
       "    </tr>\n",
       "    <tr>\n",
       "      <th>X582HE161RUS</th>\n",
       "      <td>2</td>\n",
       "      <td>2000.000000</td>\n",
       "      <td>Ford</td>\n",
       "      <td>Focus</td>\n",
       "    </tr>\n",
       "    <tr>\n",
       "      <th>92918M178RUS</th>\n",
       "      <td>1</td>\n",
       "      <td>5700.000000</td>\n",
       "      <td>Ford</td>\n",
       "      <td>Focus</td>\n",
       "    </tr>\n",
       "    <tr>\n",
       "      <th>H234YH197RUS</th>\n",
       "      <td>2</td>\n",
       "      <td>6000.000000</td>\n",
       "      <td>Ford</td>\n",
       "      <td>Focus</td>\n",
       "    </tr>\n",
       "    <tr>\n",
       "      <th>...</th>\n",
       "      <td>...</td>\n",
       "      <td>...</td>\n",
       "      <td>...</td>\n",
       "      <td>...</td>\n",
       "    </tr>\n",
       "    <tr>\n",
       "      <th>Y163O8161RUS</th>\n",
       "      <td>2</td>\n",
       "      <td>1600.000000</td>\n",
       "      <td>Ford</td>\n",
       "      <td>Focus</td>\n",
       "    </tr>\n",
       "    <tr>\n",
       "      <th>M0309X197RUS</th>\n",
       "      <td>1</td>\n",
       "      <td>22300.000000</td>\n",
       "      <td>Ford</td>\n",
       "      <td>Focus</td>\n",
       "    </tr>\n",
       "    <tr>\n",
       "      <th>O673E8197RUS</th>\n",
       "      <td>2</td>\n",
       "      <td>600.000000</td>\n",
       "      <td>Ford</td>\n",
       "      <td>Focus</td>\n",
       "    </tr>\n",
       "    <tr>\n",
       "      <th>8610T8154RUS</th>\n",
       "      <td>1</td>\n",
       "      <td>2000.000000</td>\n",
       "      <td>Ford</td>\n",
       "      <td>Focus</td>\n",
       "    </tr>\n",
       "    <tr>\n",
       "      <th>H419XE197RUS</th>\n",
       "      <td>2</td>\n",
       "      <td>8594.586466</td>\n",
       "      <td>Toyota</td>\n",
       "      <td>Corolla</td>\n",
       "    </tr>\n",
       "  </tbody>\n",
       "</table>\n",
       "<p>593 rows × 4 columns</p>\n",
       "</div>"
      ],
      "text/plain": [
       "              Refund         Fines    Make    Model\n",
       "CarNumber                                          \n",
       "Y163O8161RUS       2   3200.000000    Ford    Focus\n",
       "7184TT36RUS        1   2100.000000    Ford    Focus\n",
       "X582HE161RUS       2   2000.000000    Ford    Focus\n",
       "92918M178RUS       1   5700.000000    Ford    Focus\n",
       "H234YH197RUS       2   6000.000000    Ford    Focus\n",
       "...              ...           ...     ...      ...\n",
       "Y163O8161RUS       2   1600.000000    Ford    Focus\n",
       "M0309X197RUS       1  22300.000000    Ford    Focus\n",
       "O673E8197RUS       2    600.000000    Ford    Focus\n",
       "8610T8154RUS       1   2000.000000    Ford    Focus\n",
       "H419XE197RUS       2   8594.586466  Toyota  Corolla\n",
       "\n",
       "[593 rows x 4 columns]"
      ]
     },
     "execution_count": 58,
     "metadata": {},
     "output_type": "execute_result"
    }
   ],
   "source": [
    "models = ['Focus', 'Corolla']\n",
    "df.loc[df['Model'].isin(models)]"
   ]
  },
  {
   "cell_type": "code",
   "execution_count": 59,
   "metadata": {},
   "outputs": [
    {
     "data": {
      "text/plain": [
       "Make        Model  \n",
       "Ford        Focus      575\n",
       "            Mondeo       6\n",
       "Skoda       Octavia     48\n",
       "Toyota      Camry       16\n",
       "            Corolla     18\n",
       "Volkswagen  Golf        20\n",
       "            Jetta        6\n",
       "            Passat      22\n",
       "            Touareg      5\n",
       "Name: Fines, dtype: int64"
      ]
     },
     "execution_count": 59,
     "metadata": {},
     "output_type": "execute_result"
    }
   ],
   "source": [
    "df.groupby(['Make', 'Model']).agg('Fines').count()"
   ]
  }
 ],
 "metadata": {
  "interpreter": {
   "hash": "374acf7ca59c9c77410e9856430a421f8b466f9b8231b2ea34d803c4cb160fac"
  },
  "kernelspec": {
   "display_name": "Python 3.7.9 ('tlunchla': virtualenv)",
   "language": "python",
   "name": "python3"
  },
  "language_info": {
   "codemirror_mode": {
    "name": "ipython",
    "version": 3
   },
   "file_extension": ".py",
   "mimetype": "text/x-python",
   "name": "python",
   "nbconvert_exporter": "python",
   "pygments_lexer": "ipython3",
   "version": "3.7.9"
  },
  "orig_nbformat": 4
 },
 "nbformat": 4,
 "nbformat_minor": 2
}
