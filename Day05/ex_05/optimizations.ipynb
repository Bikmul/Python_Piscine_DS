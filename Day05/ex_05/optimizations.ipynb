{
 "cells": [
  {
   "cell_type": "markdown",
   "metadata": {},
   "source": [
    "# Exercise 05 : Pandas optimizations"
   ]
  },
  {
   "cell_type": "code",
   "execution_count": 27,
   "metadata": {},
   "outputs": [],
   "source": [
    "import pandas as pd\n",
    "import gc"
   ]
  },
  {
   "cell_type": "markdown",
   "metadata": {},
   "source": [
    "## read the fines.csv that you saved in the previous exercise"
   ]
  },
  {
   "cell_type": "code",
   "execution_count": 28,
   "metadata": {},
   "outputs": [],
   "source": [
    "df = pd.read_csv('../data/fines.csv')"
   ]
  },
  {
   "cell_type": "markdown",
   "metadata": {},
   "source": [
    "## iterations: in all the following subtasks, you need to calculate fines/refund*year for<br>each row and create a new column with the calculated data and measure the time<br>using the magic command %%timeit in the cell"
   ]
  },
  {
   "cell_type": "markdown",
   "metadata": {},
   "source": [
    "- loop: write a function that iterates through the dataframe using for i in<br>range(0, len(df)), iloc and append() to a list, assign the result of the function to a new column in the dataframe"
   ]
  },
  {
   "cell_type": "code",
   "execution_count": 29,
   "metadata": {},
   "outputs": [
    {
     "name": "stdout",
     "output_type": "stream",
     "text": [
      "300 ms ± 1.68 ms per loop (mean ± std. dev. of 7 runs, 1 loop each)\n"
     ]
    }
   ],
   "source": [
    "%%timeit\n",
    "new_col = []\n",
    "for i in range(len(df)):\n",
    "    new_col.append(df.iloc[i]['Fines'] / (df.iloc[i]['Refund'] * df.iloc[i]['Year']))\n",
    "df['calculate_column'] = new_col"
   ]
  },
  {
   "cell_type": "code",
   "execution_count": 30,
   "metadata": {},
   "outputs": [
    {
     "data": {
      "text/plain": [
       "0       0.804424\n",
       "1       3.258145\n",
       "2       1.058468\n",
       "3       0.496278\n",
       "4       2.830189\n",
       "         ...    \n",
       "925     9.495252\n",
       "926     8.627736\n",
       "927     7.904809\n",
       "928     7.293106\n",
       "929    10.529232\n",
       "Name: calculate_column, Length: 930, dtype: float64"
      ]
     },
     "execution_count": 30,
     "metadata": {},
     "output_type": "execute_result"
    }
   ],
   "source": [
    "df['calculate_column']"
   ]
  },
  {
   "cell_type": "markdown",
   "metadata": {},
   "source": [
    "- do it using iterrows()"
   ]
  },
  {
   "cell_type": "code",
   "execution_count": 31,
   "metadata": {},
   "outputs": [
    {
     "name": "stdout",
     "output_type": "stream",
     "text": [
      "CPU times: user 49.5 ms, sys: 1.4 ms, total: 50.9 ms\n",
      "Wall time: 50.1 ms\n"
     ]
    }
   ],
   "source": [
    "%%time\n",
    "new_col = []\n",
    "for i, row in df.iterrows():\n",
    "    new_col.append(row['Fines'] / (row['Refund'] * row['Year']))\n",
    "df['calculate_column'] = new_col"
   ]
  },
  {
   "cell_type": "code",
   "execution_count": 32,
   "metadata": {},
   "outputs": [
    {
     "data": {
      "text/plain": [
       "0       0.804424\n",
       "1       3.258145\n",
       "2       1.058468\n",
       "3       0.496278\n",
       "4       2.830189\n",
       "         ...    \n",
       "925     9.495252\n",
       "926     8.627736\n",
       "927     7.904809\n",
       "928     7.293106\n",
       "929    10.529232\n",
       "Name: calculate_column, Length: 930, dtype: float64"
      ]
     },
     "execution_count": 32,
     "metadata": {},
     "output_type": "execute_result"
    }
   ],
   "source": [
    "df['calculate_column']"
   ]
  },
  {
   "cell_type": "markdown",
   "metadata": {},
   "source": [
    "- do it using apply() and lambda function"
   ]
  },
  {
   "cell_type": "code",
   "execution_count": 33,
   "metadata": {},
   "outputs": [
    {
     "name": "stdout",
     "output_type": "stream",
     "text": [
      "CPU times: user 14.5 ms, sys: 627 µs, total: 15.1 ms\n",
      "Wall time: 14.6 ms\n"
     ]
    }
   ],
   "source": [
    "%%time\n",
    "df['calculate_column'] = df.apply(lambda row: row['Fines'] / (row['Refund'] * row['Year']), axis=1)"
   ]
  },
  {
   "cell_type": "code",
   "execution_count": 34,
   "metadata": {},
   "outputs": [
    {
     "data": {
      "text/plain": [
       "0       0.804424\n",
       "1       3.258145\n",
       "2       1.058468\n",
       "3       0.496278\n",
       "4       2.830189\n",
       "         ...    \n",
       "925     9.495252\n",
       "926     8.627736\n",
       "927     7.904809\n",
       "928     7.293106\n",
       "929    10.529232\n",
       "Name: calculate_column, Length: 930, dtype: float64"
      ]
     },
     "execution_count": 34,
     "metadata": {},
     "output_type": "execute_result"
    }
   ],
   "source": [
    "df['calculate_column']"
   ]
  },
  {
   "cell_type": "markdown",
   "metadata": {},
   "source": [
    "- do it using Series objects from the dataframe"
   ]
  },
  {
   "cell_type": "code",
   "execution_count": 35,
   "metadata": {},
   "outputs": [
    {
     "name": "stdout",
     "output_type": "stream",
     "text": [
      "CPU times: user 577 µs, sys: 41 µs, total: 618 µs\n",
      "Wall time: 586 µs\n"
     ]
    }
   ],
   "source": [
    "%%time\n",
    "df['calculate_column'] = df['Fines'] / (df['Refund'] * df['Year'])"
   ]
  },
  {
   "cell_type": "code",
   "execution_count": 36,
   "metadata": {},
   "outputs": [
    {
     "data": {
      "text/plain": [
       "0       0.804424\n",
       "1       3.258145\n",
       "2       1.058468\n",
       "3       0.496278\n",
       "4       2.830189\n",
       "         ...    \n",
       "925     9.495252\n",
       "926     8.627736\n",
       "927     7.904809\n",
       "928     7.293106\n",
       "929    10.529232\n",
       "Name: calculate_column, Length: 930, dtype: float64"
      ]
     },
     "execution_count": 36,
     "metadata": {},
     "output_type": "execute_result"
    }
   ],
   "source": [
    "df['calculate_column']"
   ]
  },
  {
   "cell_type": "markdown",
   "metadata": {},
   "source": [
    "- do it as in the previous subtask but with the method .values"
   ]
  },
  {
   "cell_type": "code",
   "execution_count": 37,
   "metadata": {},
   "outputs": [
    {
     "name": "stdout",
     "output_type": "stream",
     "text": [
      "CPU times: user 307 µs, sys: 37 µs, total: 344 µs\n",
      "Wall time: 311 µs\n"
     ]
    }
   ],
   "source": [
    "%%time\n",
    "df['calculate_column'] = df['Fines'].values / (df['Refund'].values * df['Year'].values)"
   ]
  },
  {
   "cell_type": "code",
   "execution_count": 38,
   "metadata": {},
   "outputs": [
    {
     "data": {
      "text/plain": [
       "0       0.804424\n",
       "1       3.258145\n",
       "2       1.058468\n",
       "3       0.496278\n",
       "4       2.830189\n",
       "         ...    \n",
       "925     9.495252\n",
       "926     8.627736\n",
       "927     7.904809\n",
       "928     7.293106\n",
       "929    10.529232\n",
       "Name: calculate_column, Length: 930, dtype: float64"
      ]
     },
     "execution_count": 38,
     "metadata": {},
     "output_type": "execute_result"
    }
   ],
   "source": [
    "df['calculate_column']"
   ]
  },
  {
   "cell_type": "markdown",
   "metadata": {},
   "source": [
    "## indexing: measure the time using the magic command %%timeit in the cell"
   ]
  },
  {
   "cell_type": "markdown",
   "metadata": {},
   "source": [
    "- get a row for a specific CarNumber, for example, ’O136HO197RUS’"
   ]
  },
  {
   "cell_type": "code",
   "execution_count": 39,
   "metadata": {},
   "outputs": [
    {
     "name": "stdout",
     "output_type": "stream",
     "text": [
      "CPU times: user 579 µs, sys: 27 µs, total: 606 µs\n",
      "Wall time: 583 µs\n"
     ]
    },
    {
     "data": {
      "text/html": [
       "<div>\n",
       "<style scoped>\n",
       "    .dataframe tbody tr th:only-of-type {\n",
       "        vertical-align: middle;\n",
       "    }\n",
       "\n",
       "    .dataframe tbody tr th {\n",
       "        vertical-align: top;\n",
       "    }\n",
       "\n",
       "    .dataframe thead th {\n",
       "        text-align: right;\n",
       "    }\n",
       "</style>\n",
       "<table border=\"1\" class=\"dataframe\">\n",
       "  <thead>\n",
       "    <tr style=\"text-align: right;\">\n",
       "      <th></th>\n",
       "      <th>CarNumber</th>\n",
       "      <th>Refund</th>\n",
       "      <th>Fines</th>\n",
       "      <th>Make</th>\n",
       "      <th>Model</th>\n",
       "      <th>Year</th>\n",
       "      <th>calculate_column</th>\n",
       "    </tr>\n",
       "  </thead>\n",
       "  <tbody>\n",
       "    <tr>\n",
       "      <th>715</th>\n",
       "      <td>O136HO197RUS</td>\n",
       "      <td>2</td>\n",
       "      <td>7800.0</td>\n",
       "      <td>Toyota</td>\n",
       "      <td>Corolla</td>\n",
       "      <td>1989</td>\n",
       "      <td>1.960784</td>\n",
       "    </tr>\n",
       "    <tr>\n",
       "      <th>902</th>\n",
       "      <td>O136HO197RUS</td>\n",
       "      <td>2</td>\n",
       "      <td>7800.0</td>\n",
       "      <td>Toyota</td>\n",
       "      <td>Corolla</td>\n",
       "      <td>1987</td>\n",
       "      <td>1.962758</td>\n",
       "    </tr>\n",
       "  </tbody>\n",
       "</table>\n",
       "</div>"
      ],
      "text/plain": [
       "        CarNumber  Refund   Fines    Make    Model  Year  calculate_column\n",
       "715  O136HO197RUS       2  7800.0  Toyota  Corolla  1989          1.960784\n",
       "902  O136HO197RUS       2  7800.0  Toyota  Corolla  1987          1.962758"
      ]
     },
     "execution_count": 39,
     "metadata": {},
     "output_type": "execute_result"
    }
   ],
   "source": [
    "%%time\n",
    "df.loc[df['CarNumber'] == 'O136HO197RUS']"
   ]
  },
  {
   "cell_type": "markdown",
   "metadata": {},
   "source": [
    "- set the index in your dataframe with CarNumber"
   ]
  },
  {
   "cell_type": "code",
   "execution_count": 40,
   "metadata": {},
   "outputs": [
    {
     "name": "stdout",
     "output_type": "stream",
     "text": [
      "CPU times: user 539 µs, sys: 44 µs, total: 583 µs\n",
      "Wall time: 552 µs\n"
     ]
    }
   ],
   "source": [
    "%%time\n",
    "df = df.set_index('CarNumber')"
   ]
  },
  {
   "cell_type": "markdown",
   "metadata": {},
   "source": [
    "- again, get a row for the same CarNumber"
   ]
  },
  {
   "cell_type": "code",
   "execution_count": 41,
   "metadata": {},
   "outputs": [
    {
     "name": "stdout",
     "output_type": "stream",
     "text": [
      "CPU times: user 999 µs, sys: 331 µs, total: 1.33 ms\n",
      "Wall time: 1.02 ms\n"
     ]
    },
    {
     "data": {
      "text/html": [
       "<div>\n",
       "<style scoped>\n",
       "    .dataframe tbody tr th:only-of-type {\n",
       "        vertical-align: middle;\n",
       "    }\n",
       "\n",
       "    .dataframe tbody tr th {\n",
       "        vertical-align: top;\n",
       "    }\n",
       "\n",
       "    .dataframe thead th {\n",
       "        text-align: right;\n",
       "    }\n",
       "</style>\n",
       "<table border=\"1\" class=\"dataframe\">\n",
       "  <thead>\n",
       "    <tr style=\"text-align: right;\">\n",
       "      <th></th>\n",
       "      <th>Refund</th>\n",
       "      <th>Fines</th>\n",
       "      <th>Make</th>\n",
       "      <th>Model</th>\n",
       "      <th>Year</th>\n",
       "      <th>calculate_column</th>\n",
       "    </tr>\n",
       "    <tr>\n",
       "      <th>CarNumber</th>\n",
       "      <th></th>\n",
       "      <th></th>\n",
       "      <th></th>\n",
       "      <th></th>\n",
       "      <th></th>\n",
       "      <th></th>\n",
       "    </tr>\n",
       "  </thead>\n",
       "  <tbody>\n",
       "    <tr>\n",
       "      <th>O136HO197RUS</th>\n",
       "      <td>2</td>\n",
       "      <td>7800.0</td>\n",
       "      <td>Toyota</td>\n",
       "      <td>Corolla</td>\n",
       "      <td>1989</td>\n",
       "      <td>1.960784</td>\n",
       "    </tr>\n",
       "    <tr>\n",
       "      <th>O136HO197RUS</th>\n",
       "      <td>2</td>\n",
       "      <td>7800.0</td>\n",
       "      <td>Toyota</td>\n",
       "      <td>Corolla</td>\n",
       "      <td>1987</td>\n",
       "      <td>1.962758</td>\n",
       "    </tr>\n",
       "  </tbody>\n",
       "</table>\n",
       "</div>"
      ],
      "text/plain": [
       "              Refund   Fines    Make    Model  Year  calculate_column\n",
       "CarNumber                                                            \n",
       "O136HO197RUS       2  7800.0  Toyota  Corolla  1989          1.960784\n",
       "O136HO197RUS       2  7800.0  Toyota  Corolla  1987          1.962758"
      ]
     },
     "execution_count": 41,
     "metadata": {},
     "output_type": "execute_result"
    }
   ],
   "source": [
    "%%time\n",
    "df.loc['O136HO197RUS']"
   ]
  },
  {
   "cell_type": "markdown",
   "metadata": {},
   "source": [
    "## downcasting:"
   ]
  },
  {
   "cell_type": "markdown",
   "metadata": {},
   "source": [
    "- run df.info(memory_usage=’deep’), pay attention to the Dtype and the memory usage"
   ]
  },
  {
   "cell_type": "code",
   "execution_count": 42,
   "metadata": {},
   "outputs": [
    {
     "name": "stdout",
     "output_type": "stream",
     "text": [
      "<class 'pandas.core.frame.DataFrame'>\n",
      "Index: 930 entries, Y163O8161RUS to abcd12345ac\n",
      "Data columns (total 6 columns):\n",
      " #   Column            Non-Null Count  Dtype  \n",
      "---  ------            --------------  -----  \n",
      " 0   Refund            930 non-null    int64  \n",
      " 1   Fines             930 non-null    float64\n",
      " 2   Make              930 non-null    object \n",
      " 3   Model             919 non-null    object \n",
      " 4   Year              930 non-null    int64  \n",
      " 5   calculate_column  930 non-null    float64\n",
      "dtypes: float64(2), int64(2), object(2)\n",
      "memory usage: 236.0 KB\n",
      "CPU times: user 4.53 ms, sys: 598 µs, total: 5.13 ms\n",
      "Wall time: 4.58 ms\n"
     ]
    }
   ],
   "source": [
    "%%time\n",
    "df.info(memory_usage='deep')"
   ]
  },
  {
   "cell_type": "markdown",
   "metadata": {},
   "source": [
    "- make a copy() of your initial dataframe into another dataframe optimized"
   ]
  },
  {
   "cell_type": "code",
   "execution_count": 43,
   "metadata": {},
   "outputs": [
    {
     "data": {
      "text/html": [
       "<div>\n",
       "<style scoped>\n",
       "    .dataframe tbody tr th:only-of-type {\n",
       "        vertical-align: middle;\n",
       "    }\n",
       "\n",
       "    .dataframe tbody tr th {\n",
       "        vertical-align: top;\n",
       "    }\n",
       "\n",
       "    .dataframe thead th {\n",
       "        text-align: right;\n",
       "    }\n",
       "</style>\n",
       "<table border=\"1\" class=\"dataframe\">\n",
       "  <thead>\n",
       "    <tr style=\"text-align: right;\">\n",
       "      <th></th>\n",
       "      <th>Refund</th>\n",
       "      <th>Fines</th>\n",
       "      <th>Make</th>\n",
       "      <th>Model</th>\n",
       "      <th>Year</th>\n",
       "      <th>calculate_column</th>\n",
       "    </tr>\n",
       "    <tr>\n",
       "      <th>CarNumber</th>\n",
       "      <th></th>\n",
       "      <th></th>\n",
       "      <th></th>\n",
       "      <th></th>\n",
       "      <th></th>\n",
       "      <th></th>\n",
       "    </tr>\n",
       "  </thead>\n",
       "  <tbody>\n",
       "    <tr>\n",
       "      <th>Y163O8161RUS</th>\n",
       "      <td>2</td>\n",
       "      <td>3200.0</td>\n",
       "      <td>Ford</td>\n",
       "      <td>Focus</td>\n",
       "      <td>1989</td>\n",
       "      <td>0.804424</td>\n",
       "    </tr>\n",
       "    <tr>\n",
       "      <th>E432XX77RUS</th>\n",
       "      <td>1</td>\n",
       "      <td>6500.0</td>\n",
       "      <td>Toyota</td>\n",
       "      <td>Camry</td>\n",
       "      <td>1995</td>\n",
       "      <td>3.258145</td>\n",
       "    </tr>\n",
       "    <tr>\n",
       "      <th>7184TT36RUS</th>\n",
       "      <td>1</td>\n",
       "      <td>2100.0</td>\n",
       "      <td>Ford</td>\n",
       "      <td>Focus</td>\n",
       "      <td>1984</td>\n",
       "      <td>1.058468</td>\n",
       "    </tr>\n",
       "    <tr>\n",
       "      <th>X582HE161RUS</th>\n",
       "      <td>2</td>\n",
       "      <td>2000.0</td>\n",
       "      <td>Ford</td>\n",
       "      <td>Focus</td>\n",
       "      <td>2015</td>\n",
       "      <td>0.496278</td>\n",
       "    </tr>\n",
       "    <tr>\n",
       "      <th>92918M178RUS</th>\n",
       "      <td>1</td>\n",
       "      <td>5700.0</td>\n",
       "      <td>Ford</td>\n",
       "      <td>Focus</td>\n",
       "      <td>2014</td>\n",
       "      <td>2.830189</td>\n",
       "    </tr>\n",
       "    <tr>\n",
       "      <th>...</th>\n",
       "      <td>...</td>\n",
       "      <td>...</td>\n",
       "      <td>...</td>\n",
       "      <td>...</td>\n",
       "      <td>...</td>\n",
       "      <td>...</td>\n",
       "    </tr>\n",
       "    <tr>\n",
       "      <th>abcd12349ac</th>\n",
       "      <td>10</td>\n",
       "      <td>190000.0</td>\n",
       "      <td>Ford</td>\n",
       "      <td>Focus</td>\n",
       "      <td>2001</td>\n",
       "      <td>9.495252</td>\n",
       "    </tr>\n",
       "    <tr>\n",
       "      <th>abcd12348ac</th>\n",
       "      <td>11</td>\n",
       "      <td>190000.0</td>\n",
       "      <td>Toyota</td>\n",
       "      <td>Corolla</td>\n",
       "      <td>2002</td>\n",
       "      <td>8.627736</td>\n",
       "    </tr>\n",
       "    <tr>\n",
       "      <th>abcd12347ac</th>\n",
       "      <td>12</td>\n",
       "      <td>190000.0</td>\n",
       "      <td>Toyota</td>\n",
       "      <td>Camry</td>\n",
       "      <td>2003</td>\n",
       "      <td>7.904809</td>\n",
       "    </tr>\n",
       "    <tr>\n",
       "      <th>abcd12346ac</th>\n",
       "      <td>13</td>\n",
       "      <td>190000.0</td>\n",
       "      <td>Volkswagen</td>\n",
       "      <td>Golf</td>\n",
       "      <td>2004</td>\n",
       "      <td>7.293106</td>\n",
       "    </tr>\n",
       "    <tr>\n",
       "      <th>abcd12345ac</th>\n",
       "      <td>9</td>\n",
       "      <td>190000.0</td>\n",
       "      <td>Skoda</td>\n",
       "      <td>Octavia</td>\n",
       "      <td>2005</td>\n",
       "      <td>10.529232</td>\n",
       "    </tr>\n",
       "  </tbody>\n",
       "</table>\n",
       "<p>930 rows × 6 columns</p>\n",
       "</div>"
      ],
      "text/plain": [
       "              Refund     Fines        Make    Model  Year  calculate_column\n",
       "CarNumber                                                                  \n",
       "Y163O8161RUS       2    3200.0        Ford    Focus  1989          0.804424\n",
       "E432XX77RUS        1    6500.0      Toyota    Camry  1995          3.258145\n",
       "7184TT36RUS        1    2100.0        Ford    Focus  1984          1.058468\n",
       "X582HE161RUS       2    2000.0        Ford    Focus  2015          0.496278\n",
       "92918M178RUS       1    5700.0        Ford    Focus  2014          2.830189\n",
       "...              ...       ...         ...      ...   ...               ...\n",
       "abcd12349ac       10  190000.0        Ford    Focus  2001          9.495252\n",
       "abcd12348ac       11  190000.0      Toyota  Corolla  2002          8.627736\n",
       "abcd12347ac       12  190000.0      Toyota    Camry  2003          7.904809\n",
       "abcd12346ac       13  190000.0  Volkswagen     Golf  2004          7.293106\n",
       "abcd12345ac        9  190000.0       Skoda  Octavia  2005         10.529232\n",
       "\n",
       "[930 rows x 6 columns]"
      ]
     },
     "execution_count": 43,
     "metadata": {},
     "output_type": "execute_result"
    }
   ],
   "source": [
    "df_copy = df.copy()\n",
    "df_copy"
   ]
  },
  {
   "cell_type": "markdown",
   "metadata": {},
   "source": [
    "- downcast from float64 to float32 for all the columns"
   ]
  },
  {
   "cell_type": "code",
   "execution_count": 44,
   "metadata": {},
   "outputs": [
    {
     "data": {
      "text/html": [
       "<div>\n",
       "<style scoped>\n",
       "    .dataframe tbody tr th:only-of-type {\n",
       "        vertical-align: middle;\n",
       "    }\n",
       "\n",
       "    .dataframe tbody tr th {\n",
       "        vertical-align: top;\n",
       "    }\n",
       "\n",
       "    .dataframe thead th {\n",
       "        text-align: right;\n",
       "    }\n",
       "</style>\n",
       "<table border=\"1\" class=\"dataframe\">\n",
       "  <thead>\n",
       "    <tr style=\"text-align: right;\">\n",
       "      <th></th>\n",
       "      <th>Refund</th>\n",
       "      <th>Fines</th>\n",
       "      <th>Make</th>\n",
       "      <th>Model</th>\n",
       "      <th>Year</th>\n",
       "      <th>calculate_column</th>\n",
       "    </tr>\n",
       "    <tr>\n",
       "      <th>CarNumber</th>\n",
       "      <th></th>\n",
       "      <th></th>\n",
       "      <th></th>\n",
       "      <th></th>\n",
       "      <th></th>\n",
       "      <th></th>\n",
       "    </tr>\n",
       "  </thead>\n",
       "  <tbody>\n",
       "    <tr>\n",
       "      <th>Y163O8161RUS</th>\n",
       "      <td>2</td>\n",
       "      <td>3200.0</td>\n",
       "      <td>Ford</td>\n",
       "      <td>Focus</td>\n",
       "      <td>1989</td>\n",
       "      <td>0.804424</td>\n",
       "    </tr>\n",
       "    <tr>\n",
       "      <th>E432XX77RUS</th>\n",
       "      <td>1</td>\n",
       "      <td>6500.0</td>\n",
       "      <td>Toyota</td>\n",
       "      <td>Camry</td>\n",
       "      <td>1995</td>\n",
       "      <td>3.258145</td>\n",
       "    </tr>\n",
       "    <tr>\n",
       "      <th>7184TT36RUS</th>\n",
       "      <td>1</td>\n",
       "      <td>2100.0</td>\n",
       "      <td>Ford</td>\n",
       "      <td>Focus</td>\n",
       "      <td>1984</td>\n",
       "      <td>1.058468</td>\n",
       "    </tr>\n",
       "    <tr>\n",
       "      <th>X582HE161RUS</th>\n",
       "      <td>2</td>\n",
       "      <td>2000.0</td>\n",
       "      <td>Ford</td>\n",
       "      <td>Focus</td>\n",
       "      <td>2015</td>\n",
       "      <td>0.496278</td>\n",
       "    </tr>\n",
       "    <tr>\n",
       "      <th>92918M178RUS</th>\n",
       "      <td>1</td>\n",
       "      <td>5700.0</td>\n",
       "      <td>Ford</td>\n",
       "      <td>Focus</td>\n",
       "      <td>2014</td>\n",
       "      <td>2.830189</td>\n",
       "    </tr>\n",
       "    <tr>\n",
       "      <th>...</th>\n",
       "      <td>...</td>\n",
       "      <td>...</td>\n",
       "      <td>...</td>\n",
       "      <td>...</td>\n",
       "      <td>...</td>\n",
       "      <td>...</td>\n",
       "    </tr>\n",
       "    <tr>\n",
       "      <th>abcd12349ac</th>\n",
       "      <td>10</td>\n",
       "      <td>190000.0</td>\n",
       "      <td>Ford</td>\n",
       "      <td>Focus</td>\n",
       "      <td>2001</td>\n",
       "      <td>9.495253</td>\n",
       "    </tr>\n",
       "    <tr>\n",
       "      <th>abcd12348ac</th>\n",
       "      <td>11</td>\n",
       "      <td>190000.0</td>\n",
       "      <td>Toyota</td>\n",
       "      <td>Corolla</td>\n",
       "      <td>2002</td>\n",
       "      <td>8.627736</td>\n",
       "    </tr>\n",
       "    <tr>\n",
       "      <th>abcd12347ac</th>\n",
       "      <td>12</td>\n",
       "      <td>190000.0</td>\n",
       "      <td>Toyota</td>\n",
       "      <td>Camry</td>\n",
       "      <td>2003</td>\n",
       "      <td>7.904809</td>\n",
       "    </tr>\n",
       "    <tr>\n",
       "      <th>abcd12346ac</th>\n",
       "      <td>13</td>\n",
       "      <td>190000.0</td>\n",
       "      <td>Volkswagen</td>\n",
       "      <td>Golf</td>\n",
       "      <td>2004</td>\n",
       "      <td>7.293106</td>\n",
       "    </tr>\n",
       "    <tr>\n",
       "      <th>abcd12345ac</th>\n",
       "      <td>9</td>\n",
       "      <td>190000.0</td>\n",
       "      <td>Skoda</td>\n",
       "      <td>Octavia</td>\n",
       "      <td>2005</td>\n",
       "      <td>10.529232</td>\n",
       "    </tr>\n",
       "  </tbody>\n",
       "</table>\n",
       "<p>930 rows × 6 columns</p>\n",
       "</div>"
      ],
      "text/plain": [
       "              Refund     Fines        Make    Model  Year  calculate_column\n",
       "CarNumber                                                                  \n",
       "Y163O8161RUS       2    3200.0        Ford    Focus  1989          0.804424\n",
       "E432XX77RUS        1    6500.0      Toyota    Camry  1995          3.258145\n",
       "7184TT36RUS        1    2100.0        Ford    Focus  1984          1.058468\n",
       "X582HE161RUS       2    2000.0        Ford    Focus  2015          0.496278\n",
       "92918M178RUS       1    5700.0        Ford    Focus  2014          2.830189\n",
       "...              ...       ...         ...      ...   ...               ...\n",
       "abcd12349ac       10  190000.0        Ford    Focus  2001          9.495253\n",
       "abcd12348ac       11  190000.0      Toyota  Corolla  2002          8.627736\n",
       "abcd12347ac       12  190000.0      Toyota    Camry  2003          7.904809\n",
       "abcd12346ac       13  190000.0  Volkswagen     Golf  2004          7.293106\n",
       "abcd12345ac        9  190000.0       Skoda  Octavia  2005         10.529232\n",
       "\n",
       "[930 rows x 6 columns]"
      ]
     },
     "execution_count": 44,
     "metadata": {},
     "output_type": "execute_result"
    }
   ],
   "source": [
    "df_copy['Fines'] = df_copy['Fines'].astype(\"float32\")\n",
    "df_copy['calculate_column'] = df_copy['calculate_column'].astype(\"float32\")\n",
    "df_copy"
   ]
  },
  {
   "cell_type": "markdown",
   "metadata": {},
   "source": [
    "-  downcast from int64 to the smallest numerical dtype possible"
   ]
  },
  {
   "cell_type": "code",
   "execution_count": 45,
   "metadata": {},
   "outputs": [],
   "source": [
    "df_copy['Refund'] = pd.to_numeric(df_copy['Refund'], downcast='integer')\n",
    "df_copy['Year'] = pd.to_numeric(df_copy['Year'], downcast='integer')"
   ]
  },
  {
   "cell_type": "markdown",
   "metadata": {},
   "source": [
    "-  run info(memory_usage=’deep’) for your new dataframe, pay attention to the<br>Dtype and the memory usage"
   ]
  },
  {
   "cell_type": "code",
   "execution_count": 46,
   "metadata": {},
   "outputs": [
    {
     "name": "stdout",
     "output_type": "stream",
     "text": [
      "<class 'pandas.core.frame.DataFrame'>\n",
      "Index: 930 entries, Y163O8161RUS to abcd12345ac\n",
      "Data columns (total 6 columns):\n",
      " #   Column            Non-Null Count  Dtype  \n",
      "---  ------            --------------  -----  \n",
      " 0   Refund            930 non-null    int8   \n",
      " 1   Fines             930 non-null    float32\n",
      " 2   Make              930 non-null    object \n",
      " 3   Model             919 non-null    object \n",
      " 4   Year              930 non-null    int16  \n",
      " 5   calculate_column  930 non-null    float32\n",
      "dtypes: float32(2), int16(1), int8(1), object(2)\n",
      "memory usage: 216.9 KB\n"
     ]
    }
   ],
   "source": [
    "df_copy.info(memory_usage='deep')"
   ]
  },
  {
   "cell_type": "markdown",
   "metadata": {},
   "source": [
    "## categories:"
   ]
  },
  {
   "cell_type": "markdown",
   "metadata": {},
   "source": [
    "- change the object type columns to the type category"
   ]
  },
  {
   "cell_type": "code",
   "execution_count": 47,
   "metadata": {},
   "outputs": [],
   "source": [
    "df_copy.reset_index(inplace=True)"
   ]
  },
  {
   "cell_type": "code",
   "execution_count": 48,
   "metadata": {},
   "outputs": [],
   "source": [
    "df_copy.reset_index()\n",
    "df_copy['CarNumber'] = df_copy['CarNumber'].astype('category')\n",
    "df_copy['Make'] = df_copy['Make'].astype('category')\n",
    "df_copy['Model'] = df_copy['Model'].astype('category')"
   ]
  },
  {
   "cell_type": "markdown",
   "metadata": {},
   "source": [
    "- This time, check the memory usage, it probably has a decrease of 2-3 times<br>compared to the initial dataframe"
   ]
  },
  {
   "cell_type": "code",
   "execution_count": 49,
   "metadata": {},
   "outputs": [
    {
     "name": "stdout",
     "output_type": "stream",
     "text": [
      "<class 'pandas.core.frame.DataFrame'>\n",
      "RangeIndex: 930 entries, 0 to 929\n",
      "Data columns (total 7 columns):\n",
      " #   Column            Non-Null Count  Dtype   \n",
      "---  ------            --------------  -----   \n",
      " 0   CarNumber         930 non-null    category\n",
      " 1   Refund            930 non-null    int8    \n",
      " 2   Fines             930 non-null    float32 \n",
      " 3   Make              930 non-null    category\n",
      " 4   Model             919 non-null    category\n",
      " 5   Year              930 non-null    int16   \n",
      " 6   calculate_column  930 non-null    float32 \n",
      "dtypes: category(3), float32(2), int16(1), int8(1)\n",
      "memory usage: 67.5 KB\n"
     ]
    }
   ],
   "source": [
    "df_copy.info(memory_usage='deep')"
   ]
  },
  {
   "cell_type": "markdown",
   "metadata": {},
   "source": [
    "## memory clean"
   ]
  },
  {
   "cell_type": "markdown",
   "metadata": {},
   "source": [
    "- using %reset_selective and the library gc clean the memory of your initial<br>dataframe only"
   ]
  },
  {
   "cell_type": "code",
   "execution_count": 50,
   "metadata": {},
   "outputs": [
    {
     "data": {
      "text/html": [
       "<div>\n",
       "<style scoped>\n",
       "    .dataframe tbody tr th:only-of-type {\n",
       "        vertical-align: middle;\n",
       "    }\n",
       "\n",
       "    .dataframe tbody tr th {\n",
       "        vertical-align: top;\n",
       "    }\n",
       "\n",
       "    .dataframe thead th {\n",
       "        text-align: right;\n",
       "    }\n",
       "</style>\n",
       "<table border=\"1\" class=\"dataframe\">\n",
       "  <thead>\n",
       "    <tr style=\"text-align: right;\">\n",
       "      <th></th>\n",
       "      <th>Refund</th>\n",
       "      <th>Fines</th>\n",
       "      <th>Make</th>\n",
       "      <th>Model</th>\n",
       "      <th>Year</th>\n",
       "      <th>calculate_column</th>\n",
       "    </tr>\n",
       "    <tr>\n",
       "      <th>CarNumber</th>\n",
       "      <th></th>\n",
       "      <th></th>\n",
       "      <th></th>\n",
       "      <th></th>\n",
       "      <th></th>\n",
       "      <th></th>\n",
       "    </tr>\n",
       "  </thead>\n",
       "  <tbody>\n",
       "    <tr>\n",
       "      <th>Y163O8161RUS</th>\n",
       "      <td>2</td>\n",
       "      <td>3200.0</td>\n",
       "      <td>Ford</td>\n",
       "      <td>Focus</td>\n",
       "      <td>1989</td>\n",
       "      <td>0.804424</td>\n",
       "    </tr>\n",
       "    <tr>\n",
       "      <th>E432XX77RUS</th>\n",
       "      <td>1</td>\n",
       "      <td>6500.0</td>\n",
       "      <td>Toyota</td>\n",
       "      <td>Camry</td>\n",
       "      <td>1995</td>\n",
       "      <td>3.258145</td>\n",
       "    </tr>\n",
       "    <tr>\n",
       "      <th>7184TT36RUS</th>\n",
       "      <td>1</td>\n",
       "      <td>2100.0</td>\n",
       "      <td>Ford</td>\n",
       "      <td>Focus</td>\n",
       "      <td>1984</td>\n",
       "      <td>1.058468</td>\n",
       "    </tr>\n",
       "    <tr>\n",
       "      <th>X582HE161RUS</th>\n",
       "      <td>2</td>\n",
       "      <td>2000.0</td>\n",
       "      <td>Ford</td>\n",
       "      <td>Focus</td>\n",
       "      <td>2015</td>\n",
       "      <td>0.496278</td>\n",
       "    </tr>\n",
       "    <tr>\n",
       "      <th>92918M178RUS</th>\n",
       "      <td>1</td>\n",
       "      <td>5700.0</td>\n",
       "      <td>Ford</td>\n",
       "      <td>Focus</td>\n",
       "      <td>2014</td>\n",
       "      <td>2.830189</td>\n",
       "    </tr>\n",
       "    <tr>\n",
       "      <th>...</th>\n",
       "      <td>...</td>\n",
       "      <td>...</td>\n",
       "      <td>...</td>\n",
       "      <td>...</td>\n",
       "      <td>...</td>\n",
       "      <td>...</td>\n",
       "    </tr>\n",
       "    <tr>\n",
       "      <th>abcd12349ac</th>\n",
       "      <td>10</td>\n",
       "      <td>190000.0</td>\n",
       "      <td>Ford</td>\n",
       "      <td>Focus</td>\n",
       "      <td>2001</td>\n",
       "      <td>9.495252</td>\n",
       "    </tr>\n",
       "    <tr>\n",
       "      <th>abcd12348ac</th>\n",
       "      <td>11</td>\n",
       "      <td>190000.0</td>\n",
       "      <td>Toyota</td>\n",
       "      <td>Corolla</td>\n",
       "      <td>2002</td>\n",
       "      <td>8.627736</td>\n",
       "    </tr>\n",
       "    <tr>\n",
       "      <th>abcd12347ac</th>\n",
       "      <td>12</td>\n",
       "      <td>190000.0</td>\n",
       "      <td>Toyota</td>\n",
       "      <td>Camry</td>\n",
       "      <td>2003</td>\n",
       "      <td>7.904809</td>\n",
       "    </tr>\n",
       "    <tr>\n",
       "      <th>abcd12346ac</th>\n",
       "      <td>13</td>\n",
       "      <td>190000.0</td>\n",
       "      <td>Volkswagen</td>\n",
       "      <td>Golf</td>\n",
       "      <td>2004</td>\n",
       "      <td>7.293106</td>\n",
       "    </tr>\n",
       "    <tr>\n",
       "      <th>abcd12345ac</th>\n",
       "      <td>9</td>\n",
       "      <td>190000.0</td>\n",
       "      <td>Skoda</td>\n",
       "      <td>Octavia</td>\n",
       "      <td>2005</td>\n",
       "      <td>10.529232</td>\n",
       "    </tr>\n",
       "  </tbody>\n",
       "</table>\n",
       "<p>930 rows × 6 columns</p>\n",
       "</div>"
      ],
      "text/plain": [
       "              Refund     Fines        Make    Model  Year  calculate_column\n",
       "CarNumber                                                                  \n",
       "Y163O8161RUS       2    3200.0        Ford    Focus  1989          0.804424\n",
       "E432XX77RUS        1    6500.0      Toyota    Camry  1995          3.258145\n",
       "7184TT36RUS        1    2100.0        Ford    Focus  1984          1.058468\n",
       "X582HE161RUS       2    2000.0        Ford    Focus  2015          0.496278\n",
       "92918M178RUS       1    5700.0        Ford    Focus  2014          2.830189\n",
       "...              ...       ...         ...      ...   ...               ...\n",
       "abcd12349ac       10  190000.0        Ford    Focus  2001          9.495252\n",
       "abcd12348ac       11  190000.0      Toyota  Corolla  2002          8.627736\n",
       "abcd12347ac       12  190000.0      Toyota    Camry  2003          7.904809\n",
       "abcd12346ac       13  190000.0  Volkswagen     Golf  2004          7.293106\n",
       "abcd12345ac        9  190000.0       Skoda  Octavia  2005         10.529232\n",
       "\n",
       "[930 rows x 6 columns]"
      ]
     },
     "execution_count": 50,
     "metadata": {},
     "output_type": "execute_result"
    }
   ],
   "source": [
    "df"
   ]
  },
  {
   "cell_type": "code",
   "execution_count": 51,
   "metadata": {},
   "outputs": [],
   "source": [
    "%reset_selective -f df"
   ]
  },
  {
   "cell_type": "code",
   "execution_count": 52,
   "metadata": {},
   "outputs": [
    {
     "ename": "NameError",
     "evalue": "name 'df' is not defined",
     "output_type": "error",
     "traceback": [
      "\u001b[0;31m---------------------------------------------------------------------------\u001b[0m",
      "\u001b[0;31mNameError\u001b[0m                                 Traceback (most recent call last)",
      "\u001b[0;32m/var/folders/zz/zyxvpxvq6csfxvn_n003vp8c00yxk3/T/ipykernel_13310/1396537375.py\u001b[0m in \u001b[0;36m<module>\u001b[0;34m\u001b[0m\n\u001b[0;32m----> 1\u001b[0;31m \u001b[0mdf\u001b[0m\u001b[0;34m\u001b[0m\u001b[0;34m\u001b[0m\u001b[0m\n\u001b[0m",
      "\u001b[0;31mNameError\u001b[0m: name 'df' is not defined"
     ]
    }
   ],
   "source": [
    "df"
   ]
  }
 ],
 "metadata": {
  "interpreter": {
   "hash": "374acf7ca59c9c77410e9856430a421f8b466f9b8231b2ea34d803c4cb160fac"
  },
  "kernelspec": {
   "display_name": "Python 3.7.9 ('tlunchla': virtualenv)",
   "language": "python",
   "name": "python3"
  },
  "language_info": {
   "codemirror_mode": {
    "name": "ipython",
    "version": 3
   },
   "file_extension": ".py",
   "mimetype": "text/x-python",
   "name": "python",
   "nbconvert_exporter": "python",
   "pygments_lexer": "ipython3",
   "version": "3.7.9"
  },
  "orig_nbformat": 4
 },
 "nbformat": 4,
 "nbformat_minor": 2
}
